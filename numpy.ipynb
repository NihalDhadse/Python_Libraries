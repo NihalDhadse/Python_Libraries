{
 "cells": [
  {
   "cell_type": "code",
   "execution_count": 1,
   "id": "4b831fdd-f9ca-41d7-a835-bf8866576037",
   "metadata": {},
   "outputs": [
    {
     "name": "stdout",
     "output_type": "stream",
     "text": [
      "[10, 20, 30, 50, 60, 70]\n"
     ]
    }
   ],
   "source": [
    "list1=[10,20,30]\n",
    "list2=[50,60,70]\n",
    "print(list1+list2)"
   ]
  },
  {
   "cell_type": "code",
   "execution_count": 43,
   "id": "69ed5d5f-8677-41c5-bff5-a0d4b9e42a5e",
   "metadata": {},
   "outputs": [
    {
     "name": "stdout",
     "output_type": "stream",
     "text": [
      "[ 60  80 100]\n"
     ]
    }
   ],
   "source": [
    "import numpy as np\n",
    "list1=np.array([10,20,30])\n",
    "list2=np.array([50,60,70])\n",
    "print(list1+list2)"
   ]
  },
  {
   "cell_type": "code",
   "execution_count": 2,
   "id": "6e72482b-0dd8-488c-b4e7-d71df27fe180",
   "metadata": {},
   "outputs": [
    {
     "name": "stdout",
     "output_type": "stream",
     "text": [
      "[10 20 30 50 60 70]\n"
     ]
    }
   ],
   "source": [
    "import numpy as np\n",
    "list1= np.array([10,20,30])\n",
    "list2= np.array([50,60,70])\n",
    "print( np.concatenate([list1,list2]))\n"
   ]
  },
  {
   "cell_type": "code",
   "execution_count": 4,
   "id": "6cf92e06-b0d5-45d2-9976-6256e6b82d3a",
   "metadata": {},
   "outputs": [
    {
     "name": "stdout",
     "output_type": "stream",
     "text": [
      "[100 150 200]\n"
     ]
    }
   ],
   "source": [
    "a=np.array([20,30,40])\n",
    "b=np.array([5])\n",
    "print(a*b)"
   ]
  },
  {
   "cell_type": "code",
   "execution_count": 5,
   "id": "f7181540-50dc-4f45-bc82-e1b968d38423",
   "metadata": {},
   "outputs": [
    {
     "name": "stdout",
     "output_type": "stream",
     "text": [
      "[[ 1  2  3]\n",
      " [20 30 40]]\n"
     ]
    }
   ],
   "source": [
    "dimen2=np.array([[1,2,3],[20,30,40]])\n",
    "print(dimen2)"
   ]
  },
  {
   "cell_type": "code",
   "execution_count": null,
   "id": "b9b4b04b-9a36-40b4-b91a-3b14807a68fc",
   "metadata": {
    "scrolled": true
   },
   "outputs": [],
   "source": [
    "\n"
   ]
  },
  {
   "cell_type": "code",
   "execution_count": 13,
   "id": "9ac5f289-c2c5-43d4-8f90-afdd7a682f50",
   "metadata": {},
   "outputs": [
    {
     "name": "stdout",
     "output_type": "stream",
     "text": [
      "[[ 1  2]\n",
      " [20 30]\n",
      " [40 50]]\n"
     ]
    }
   ],
   "source": [
    "dimen2=np.array([[1,2,3],[20,30,40],[40,50,60]])\n",
    "print(dimen2[0:3,0:2])\n"
   ]
  },
  {
   "cell_type": "code",
   "execution_count": 85,
   "id": "acc9f532-af08-48c5-898f-0df269a1bfa3",
   "metadata": {},
   "outputs": [
    {
     "name": "stdout",
     "output_type": "stream",
     "text": [
      "(3, 3)\n",
      "9\n",
      "2\n",
      "int64\n",
      "3\n",
      "\n",
      "[[ 1.  2.  3.]\n",
      " [20. 30. 40.]\n",
      " [40. 50. 60.]]\n"
     ]
    }
   ],
   "source": [
    "dimen2=np.array([[1,2,3],[20,30,40],[40,50,60]])\n",
    "print(np.shape(dimen2))\n",
    "print(np.size(dimen2))\n",
    "print(np.ndim(dimen2))#rows and colums 2d ke hai \n",
    "print(dimen2.dtype)\n",
    "print(len(dimen2))\n",
    "print()\n",
    "print(dimen2.astype(float))"
   ]
  },
  {
   "cell_type": "code",
   "execution_count": 20,
   "id": "958cd198-5f34-46ea-933b-8ee96c105fe0",
   "metadata": {},
   "outputs": [
    {
     "name": "stdout",
     "output_type": "stream",
     "text": [
      "[ 70  90 110 130 150]\n"
     ]
    }
   ],
   "source": [
    "import numpy as np\n",
    "a=[10,20,30,40,50]\n",
    "b=[60,70,80,90,100]\n",
    "print(np.add(a,b))  \n"
   ]
  },
  {
   "cell_type": "code",
   "execution_count": 83,
   "id": "6edec2ee-b6c7-4507-bf21-a4cd00527a2f",
   "metadata": {},
   "outputs": [
    {
     "name": "stdout",
     "output_type": "stream",
     "text": [
      "[[ 70  90]\n",
      " [130 150]]\n",
      "\n",
      "[[-50 -50]\n",
      " [-50 -50]]\n"
     ]
    }
   ],
   "source": [
    "import numpy as np\n",
    "a=[[10,20],[40,50]]\n",
    "b=[[60,70],[90,100]]\n",
    "print(np.add(a,b))\n",
    "print()\n",
    "print(np.subtract(a,b)) \n",
    "\n"
   ]
  },
  {
   "cell_type": "code",
   "execution_count": 31,
   "id": "3c98c01e-e424-4b1f-8465-cb5f073c1f00",
   "metadata": {},
   "outputs": [
    {
     "name": "stdout",
     "output_type": "stream",
     "text": [
      "[    1000000    64000000   729000000  4096000000 15625000000]\n"
     ]
    }
   ],
   "source": [
    "a=[10,20,30,40,50]\n",
    "b=[6]\n",
    "print(np.power(a,b))  "
   ]
  },
  {
   "cell_type": "code",
   "execution_count": 33,
   "id": "8786b1cb-5c4e-4998-9f60-174c31cc1240",
   "metadata": {},
   "outputs": [
    {
     "name": "stdout",
     "output_type": "stream",
     "text": [
      "[ 3.  9. 15. 25.]\n"
     ]
    }
   ],
   "source": [
    "a=[9,81,225,625]\n",
    "print(np.sqrt(a)  )"
   ]
  },
  {
   "cell_type": "code",
   "execution_count": 84,
   "id": "15345aba-8424-404c-ba3a-ba64ecd0df92",
   "metadata": {},
   "outputs": [
    {
     "name": "stdout",
     "output_type": "stream",
     "text": [
      "[[10 20 50 60]\n",
      " [30 40 70 80]]\n",
      "\n",
      "[[10 20]\n",
      " [30 40]\n",
      " [50 60]\n",
      " [70 80]]\n",
      "\n",
      "[[10 20 50 60]\n",
      " [30 40 70 80]]\n",
      "\n",
      "[[10 20]\n",
      " [30 40]\n",
      " [50 60]\n",
      " [70 80]]\n"
     ]
    }
   ],
   "source": [
    "import numpy as np\n",
    "list1= np.array([[10,20],[30,40]])\n",
    "list2= np.array([[50,60],[70,80]])\n",
    "\n",
    "print( np.concatenate([list1,list2],axis =1 ) )\n",
    "print()\n",
    "print( np.concatenate([list1,list2],axis =0 ) )\n",
    "print()\n",
    "print( np.hstack([list1,list2]) )          \n",
    "print()\n",
    "print( np.vstack([list1,list2]) )          "
   ]
  },
  {
   "cell_type": "code",
   "execution_count": 86,
   "id": "b0d478d0-05bd-422b-b475-8de57e5546ab",
   "metadata": {},
   "outputs": [
    {
     "name": "stdout",
     "output_type": "stream",
     "text": [
      "[10 20 30 40 90 20]\n",
      "\n",
      "[ 10 200  20  30  40]\n",
      "\n",
      "[[10 50 20]\n",
      " [30 60 40]]\n",
      "\n",
      "[[10 20]\n",
      " [50 60]\n",
      " [30 40]]\n",
      "\n",
      "[[10 20]\n",
      " [50 50]\n",
      " [30 40]]\n"
     ]
    }
   ],
   "source": [
    "import numpy as np\n",
    "list1= np.array([[10,20],[30,40]])\n",
    "\n",
    "print(np.append(list1,[90,20]))\n",
    "print()\n",
    "print(np.insert(list1,1,200))\n",
    "print()\n",
    "print(np.insert(list1,1,[50,60],axis=1))\n",
    "print()\n",
    "print(np.insert(list1,1,[50,60],axis=0))  \n",
    "print()\n",
    "print(np.insert(list1,1,[50],axis=0))   "
   ]
  },
  {
   "cell_type": "code",
   "execution_count": 63,
   "id": "4041c6df-ebff-4c30-9b54-d9f5cf0a6037",
   "metadata": {},
   "outputs": [
    {
     "name": "stdout",
     "output_type": "stream",
     "text": [
      "[1 2 4 5 6 7 8]\n"
     ]
    }
   ],
   "source": [
    "a=[1,2,3,4,5,6,7,8]\n",
    "print(np.delete(a,2))"
   ]
  },
  {
   "cell_type": "code",
   "execution_count": 66,
   "id": "da8a9c7f-02db-4026-82d2-49d684b35d21",
   "metadata": {},
   "outputs": [
    {
     "name": "stdout",
     "output_type": "stream",
     "text": [
      "[1 2 3 4 5 6 7 9]\n"
     ]
    }
   ],
   "source": [
    "#sort filter and search\n",
    "\n",
    "arr=np.array([3,5,2,6,4,9,7,1])\n",
    "print(np.sort(arr))"
   ]
  },
  {
   "cell_type": "code",
   "execution_count": 69,
   "id": "2e900c3e-7210-4b9c-9d98-b72f90f82a54",
   "metadata": {},
   "outputs": [
    {
     "name": "stdout",
     "output_type": "stream",
     "text": [
      "[[1 2 3 4 5 6 7 9]\n",
      " [0 1 2 3 3 5 6 9]]\n"
     ]
    }
   ],
   "source": [
    "arr=np.array([[3,5,2,6,4,9,7,1],[1,5,3,9,6,2,3,0]])\n",
    "print(np.sort(arr))"
   ]
  },
  {
   "cell_type": "code",
   "execution_count": 70,
   "id": "c0682e6f-3324-4dbd-9b98-0248cbae5057",
   "metadata": {},
   "outputs": [
    {
     "name": "stdout",
     "output_type": "stream",
     "text": [
      "3\n"
     ]
    }
   ],
   "source": [
    "arr=np.array([3,5,2,6,4,9,7,1])\n",
    "s=np.searchsorted(arr,4)\n",
    "print(s)"
   ]
  },
  {
   "cell_type": "code",
   "execution_count": 3,
   "id": "b6fc2158-cd8c-4a6f-9aa4-45ebe90a9c34",
   "metadata": {},
   "outputs": [
    {
     "name": "stdout",
     "output_type": "stream",
     "text": [
      "150\n",
      "10\n",
      "50\n",
      "5\n",
      "[ 10  30  60 100 150]\n"
     ]
    }
   ],
   "source": [
    "#aggregeting in array\n",
    "\n",
    "import numpy as np\n",
    "a=np.array([10,20,30,40,50])\n",
    "print(np.sum(a))\n",
    "print(np.min(a))\n",
    "print(np.max(a))\n",
    "print(np.size(a))\n",
    "print(np.cumsum(a))             "
   ]
  },
  {
   "cell_type": "code",
   "execution_count": 91,
   "id": "ac667584-ae65-49d0-afb8-c62c02d4d9d7",
   "metadata": {},
   "outputs": [
    {
     "name": "stdout",
     "output_type": "stream",
     "text": [
      "[100 200 300 400 500] \n",
      " [10 20 30 40 50]\n",
      "\n",
      "[[  100   200   300   400   500]\n",
      " [ 1000  4000  9000 16000 25000]]\n",
      "\n",
      "1500\n"
     ]
    }
   ],
   "source": [
    "a=[100,200,300,400,500]\n",
    "b=[10,20,30,40,50]\n",
    "price=np.array(a)\n",
    "quantity=np.array(b)\n",
    "print(price,\"\\n\",quantity)\n",
    "print()\n",
    "print(np.cumprod([price,quantity],axis=0))\n",
    "print()\n",
    "print(np.sum(price))"
   ]
  },
  {
   "cell_type": "code",
   "execution_count": 97,
   "id": "e72ba54f-39f0-49c8-b119-ab353cce53e8",
   "metadata": {},
   "outputs": [
    {
     "name": "stdout",
     "output_type": "stream",
     "text": [
      "202.25\n",
      "194.0\n",
      "200\n",
      "55.68157235567257\n",
      "3100.4375\n"
     ]
    }
   ],
   "source": [
    "#statistical function in array\n",
    "import numpy as np\n",
    "import statistics as stats\n",
    "baked_food=[200,300,150,130,200,280,170,188]\n",
    "print(np.mean(baked_food))                \n",
    "print(np.median(baked_food))                \n",
    "print(stats.mode(baked_food))              \n",
    "print(np.std(baked_food))           \n",
    "print(np.var(baked_food))           "
   ]
  },
  {
   "cell_type": "code",
   "execution_count": 99,
   "id": "9c47ae26-35a8-4afa-9d2f-4b5c0d50ea7a",
   "metadata": {},
   "outputs": [
    {
     "name": "stdout",
     "output_type": "stream",
     "text": [
      "[[1.         0.53654243]\n",
      " [0.53654243 1.        ]]\n"
     ]
    }
   ],
   "source": [
    "\n",
    "tobocco_cumsumption=[30,50,10,40,60]\n",
    "deaths=[100,120,30,150,80]\n",
    "print(np.corrcoef([tobocco_cumsumption,deaths]))\n"
   ]
  },
  {
   "cell_type": "code",
   "execution_count": 102,
   "id": "1268e35a-9551-4378-a1ad-72e3ced49a44",
   "metadata": {},
   "outputs": [
    {
     "name": "stdout",
     "output_type": "stream",
     "text": [
      "[[ 1.         -0.99892009]\n",
      " [-0.99892009  1.        ]]\n"
     ]
    }
   ],
   "source": [
    "\n",
    "sale=[300,100,350,150]\n",
    "price=[10,20,7,17]\n",
    "print(np.corrcoef([sale,price]))\n",
    "\n"
   ]
  },
  {
   "cell_type": "code",
   "execution_count": null,
   "id": "3e656ee9-41ee-4376-b078-5d860d7aae2e",
   "metadata": {},
   "outputs": [],
   "source": []
  }
 ],
 "metadata": {
  "kernelspec": {
   "display_name": "Python 3 (ipykernel)",
   "language": "python",
   "name": "python3"
  },
  "language_info": {
   "codemirror_mode": {
    "name": "ipython",
    "version": 3
   },
   "file_extension": ".py",
   "mimetype": "text/x-python",
   "name": "python",
   "nbconvert_exporter": "python",
   "pygments_lexer": "ipython3",
   "version": "3.12.5"
  }
 },
 "nbformat": 4,
 "nbformat_minor": 5
}
