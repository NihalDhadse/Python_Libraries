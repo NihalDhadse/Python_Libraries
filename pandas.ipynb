{
 "cells": [
  {
   "cell_type": "code",
   "execution_count": 1,
   "id": "8131668e-5b5a-420f-bb04-c620a4df2e64",
   "metadata": {},
   "outputs": [
    {
     "name": "stdout",
     "output_type": "stream",
     "text": [
      "    name  age  salary\n",
      "0  nihal   20   20000\n",
      "1  rohit   50   15000\n",
      "2   amit   30   30000\n"
     ]
    }
   ],
   "source": [
    "#pandas is a python package provide fast, flexible and expressive data structure design to make working with \"relational\" or \"labled \" data.\n",
    "#it has functions for analyzing,cleaning ,exploring and manipulating data.\n",
    "import pandas as pd\n",
    "data={\"name\":[\"nihal\",\"rohit\",\"amit\"],\n",
    "      \"age\":[20,50,30],\n",
    "      \"salary\":[20000,15000,30000]   \n",
    "}\n",
    "df=pd.DataFrame(data)\n",
    "print (df)"
   ]
  },
  {
   "cell_type": "code",
   "execution_count": 11,
   "id": "4dd07130-6ac5-45cf-ade6-8828444847f1",
   "metadata": {},
   "outputs": [
    {
     "name": "stdout",
     "output_type": "stream",
     "text": [
      "     CustomerID   Genre  Age  Annual_Income_(k$)  Spending_Score\n",
      "0             1    Male   19                  15              39\n",
      "1             2    Male   21                  15              81\n",
      "2             3  Female   20                  16               6\n",
      "3             4  Female   23                  16              77\n",
      "4             5  Female   31                  17              40\n",
      "..          ...     ...  ...                 ...             ...\n",
      "195         196  Female   35                 120              79\n",
      "196         197  Female   45                 126              28\n",
      "197         198    Male   32                 126              74\n",
      "198         199    Male   32                 137              18\n",
      "199         200    Male   30                 137              83\n",
      "\n",
      "[200 rows x 5 columns]\n"
     ]
    }
   ],
   "source": [
    "import pandas as pd\n",
    "data=pd.read_csv(\"C:/Users/nihal/OneDrive/Desktop/jupyter notebook/Mall_Customers.csv\")\n",
    "print(data)"
   ]
  },
  {
   "cell_type": "code",
   "execution_count": 12,
   "id": "4b775b6c-d57b-4350-b8cd-0c4ba91335a8",
   "metadata": {},
   "outputs": [
    {
     "name": "stdout",
     "output_type": "stream",
     "text": [
      "   CustomerID   Genre  Age  Annual_Income_(k$)  Spending_Score\n",
      "0           1    Male   19                  15              39\n",
      "1           2    Male   21                  15              81\n",
      "2           3  Female   20                  16               6\n",
      "3           4  Female   23                  16              77\n",
      "4           5  Female   31                  17              40\n",
      "5           6  Female   22                  17              76\n",
      "6           7  Female   35                  18               6\n",
      "7           8  Female   23                  18              94\n",
      "8           9    Male   64                  19               3\n",
      "9          10  Female   30                  19              72\n"
     ]
    }
   ],
   "source": [
    "print (data.head(10))                       "
   ]
  },
  {
   "cell_type": "code",
   "execution_count": 14,
   "id": "4a169e50-8363-4520-a0b1-45c7e982d2cb",
   "metadata": {},
   "outputs": [
    {
     "name": "stdout",
     "output_type": "stream",
     "text": [
      "<class 'pandas.core.frame.DataFrame'>\n",
      "RangeIndex: 200 entries, 0 to 199\n",
      "Data columns (total 5 columns):\n",
      " #   Column              Non-Null Count  Dtype \n",
      "---  ------              --------------  ----- \n",
      " 0   CustomerID          200 non-null    int64 \n",
      " 1   Genre               200 non-null    object\n",
      " 2   Age                 200 non-null    int64 \n",
      " 3   Annual_Income_(k$)  200 non-null    int64 \n",
      " 4   Spending_Score      200 non-null    int64 \n",
      "dtypes: int64(4), object(1)\n",
      "memory usage: 7.9+ KB\n",
      "None\n"
     ]
    }
   ],
   "source": [
    "print (data.info())"
   ]
  },
  {
   "cell_type": "code",
   "execution_count": 15,
   "id": "7c552365-9f5c-49d5-8a98-e7df66a379ef",
   "metadata": {},
   "outputs": [
    {
     "data": {
      "text/html": [
       "<div>\n",
       "<style scoped>\n",
       "    .dataframe tbody tr th:only-of-type {\n",
       "        vertical-align: middle;\n",
       "    }\n",
       "\n",
       "    .dataframe tbody tr th {\n",
       "        vertical-align: top;\n",
       "    }\n",
       "\n",
       "    .dataframe thead th {\n",
       "        text-align: right;\n",
       "    }\n",
       "</style>\n",
       "<table border=\"1\" class=\"dataframe\">\n",
       "  <thead>\n",
       "    <tr style=\"text-align: right;\">\n",
       "      <th></th>\n",
       "      <th>CustomerID</th>\n",
       "      <th>Age</th>\n",
       "      <th>Annual_Income_(k$)</th>\n",
       "      <th>Spending_Score</th>\n",
       "    </tr>\n",
       "  </thead>\n",
       "  <tbody>\n",
       "    <tr>\n",
       "      <th>count</th>\n",
       "      <td>200.000000</td>\n",
       "      <td>200.000000</td>\n",
       "      <td>200.000000</td>\n",
       "      <td>200.000000</td>\n",
       "    </tr>\n",
       "    <tr>\n",
       "      <th>mean</th>\n",
       "      <td>100.500000</td>\n",
       "      <td>38.850000</td>\n",
       "      <td>60.560000</td>\n",
       "      <td>50.200000</td>\n",
       "    </tr>\n",
       "    <tr>\n",
       "      <th>std</th>\n",
       "      <td>57.879185</td>\n",
       "      <td>13.969007</td>\n",
       "      <td>26.264721</td>\n",
       "      <td>25.823522</td>\n",
       "    </tr>\n",
       "    <tr>\n",
       "      <th>min</th>\n",
       "      <td>1.000000</td>\n",
       "      <td>18.000000</td>\n",
       "      <td>15.000000</td>\n",
       "      <td>1.000000</td>\n",
       "    </tr>\n",
       "    <tr>\n",
       "      <th>25%</th>\n",
       "      <td>50.750000</td>\n",
       "      <td>28.750000</td>\n",
       "      <td>41.500000</td>\n",
       "      <td>34.750000</td>\n",
       "    </tr>\n",
       "    <tr>\n",
       "      <th>50%</th>\n",
       "      <td>100.500000</td>\n",
       "      <td>36.000000</td>\n",
       "      <td>61.500000</td>\n",
       "      <td>50.000000</td>\n",
       "    </tr>\n",
       "    <tr>\n",
       "      <th>75%</th>\n",
       "      <td>150.250000</td>\n",
       "      <td>49.000000</td>\n",
       "      <td>78.000000</td>\n",
       "      <td>73.000000</td>\n",
       "    </tr>\n",
       "    <tr>\n",
       "      <th>max</th>\n",
       "      <td>200.000000</td>\n",
       "      <td>70.000000</td>\n",
       "      <td>137.000000</td>\n",
       "      <td>99.000000</td>\n",
       "    </tr>\n",
       "  </tbody>\n",
       "</table>\n",
       "</div>"
      ],
      "text/plain": [
       "       CustomerID         Age  Annual_Income_(k$)  Spending_Score\n",
       "count  200.000000  200.000000          200.000000      200.000000\n",
       "mean   100.500000   38.850000           60.560000       50.200000\n",
       "std     57.879185   13.969007           26.264721       25.823522\n",
       "min      1.000000   18.000000           15.000000        1.000000\n",
       "25%     50.750000   28.750000           41.500000       34.750000\n",
       "50%    100.500000   36.000000           61.500000       50.000000\n",
       "75%    150.250000   49.000000           78.000000       73.000000\n",
       "max    200.000000   70.000000          137.000000       99.000000"
      ]
     },
     "execution_count": 15,
     "metadata": {},
     "output_type": "execute_result"
    }
   ],
   "source": [
    "data.describe()"
   ]
  },
  {
   "cell_type": "code",
   "execution_count": 17,
   "id": "d587ce12-b0e6-496b-8b45-3d659e74bbbb",
   "metadata": {},
   "outputs": [
    {
     "name": "stdout",
     "output_type": "stream",
     "text": [
      "CustomerID            0\n",
      "Genre                 0\n",
      "Age                   0\n",
      "Annual_Income_(k$)    0\n",
      "Spending_Score        0\n",
      "dtype: int64\n"
     ]
    }
   ],
   "source": [
    "print(data.isnull().sum())           "
   ]
  },
  {
   "cell_type": "code",
   "execution_count": 20,
   "id": "d8f03a41-64a8-4f4b-be65-475cf2826775",
   "metadata": {},
   "outputs": [
    {
     "name": "stdout",
     "output_type": "stream",
     "text": [
      "    EEID      name gender   salary\n",
      "0  EMP01     ayush      F      NaN\n",
      "1  EMP02     rohit      M  25000.0\n",
      "2  EMP03  pranjali      F  27000.0\n",
      "3  EMP01     ayush    NaN  20000.0\n",
      "4  EMP05       NaN      M  25000.0\n",
      "5  EMP06     rohan      M      NaN\n",
      "6  EMP02     rohit      M  25000.0\n"
     ]
    }
   ],
   "source": [
    "import pandas as pd\n",
    "ndata=pd.read_excel(\"C:/Users/nihal/OneDrive/Desktop/jupyter notebook/Book1.xlsx\")\n",
    "print(ndata)"
   ]
  },
  {
   "cell_type": "code",
   "execution_count": 25,
   "id": "2bab6ed1-6fa2-4f6f-bceb-3b64044eee6e",
   "metadata": {},
   "outputs": [
    {
     "name": "stdout",
     "output_type": "stream",
     "text": [
      "0    False\n",
      "1    False\n",
      "2    False\n",
      "3     True\n",
      "4    False\n",
      "5    False\n",
      "6     True\n",
      "Name: EEID, dtype: bool\n",
      "\n",
      "2\n"
     ]
    }
   ],
   "source": [
    "print(ndata[\"EEID\"].duplicated())                 \n",
    "print()\n",
    "print(ndata[\"EEID\"].duplicated().sum())"
   ]
  },
  {
   "cell_type": "code",
   "execution_count": 26,
   "id": "99073e71-2c3d-4d43-a505-4c2c188dcde3",
   "metadata": {},
   "outputs": [
    {
     "name": "stdout",
     "output_type": "stream",
     "text": [
      "    EEID      name gender   salary\n",
      "0  EMP01     ayush      F      NaN\n",
      "1  EMP02     rohit      M  25000.0\n",
      "2  EMP03  pranjali      F  27000.0\n",
      "4  EMP05       NaN      M  25000.0\n",
      "5  EMP06     rohan      M      NaN\n"
     ]
    }
   ],
   "source": [
    "print(ndata.drop_duplicates(\"EEID\"))                     "
   ]
  },
  {
   "cell_type": "code",
   "execution_count": 28,
   "id": "85e29595-10ba-49fe-8731-e79451e5229b",
   "metadata": {},
   "outputs": [
    {
     "name": "stdout",
     "output_type": "stream",
     "text": [
      "    EEID   name  gender  salary\n",
      "0  False  False   False    True\n",
      "1  False  False   False   False\n",
      "2  False  False   False   False\n",
      "3  False  False    True   False\n",
      "4  False   True   False   False\n",
      "5  False  False   False    True\n",
      "6  False  False   False   False\n",
      "\n",
      "EEID      0\n",
      "name      1\n",
      "gender    1\n",
      "salary    2\n",
      "dtype: int64\n"
     ]
    }
   ],
   "source": [
    "#working with missing data\n",
    "import pandas as pd\n",
    "ndata=pd.read_excel(\"C:/Users/nihal/OneDrive/Desktop/jupyter notebook/Book1.xlsx\")\n",
    "print(ndata.isnull())\n",
    "print()\n",
    "print(ndata.isnull().sum())"
   ]
  },
  {
   "cell_type": "code",
   "execution_count": 29,
   "id": "9551069e-315c-47d1-9d49-da0e46050290",
   "metadata": {},
   "outputs": [
    {
     "name": "stdout",
     "output_type": "stream",
     "text": [
      "    EEID      name gender   salary\n",
      "1  EMP02     rohit      M  25000.0\n",
      "2  EMP03  pranjali      F  27000.0\n",
      "6  EMP02     rohit      M  25000.0\n"
     ]
    }
   ],
   "source": [
    " print(ndata.dropna())        "
   ]
  },
  {
   "cell_type": "code",
   "execution_count": 31,
   "id": "ac4c4576-1726-4500-9280-088d8d9f9777",
   "metadata": {},
   "outputs": [
    {
     "name": "stdout",
     "output_type": "stream",
     "text": [
      "24400.0\n"
     ]
    }
   ],
   "source": [
    "mean=ndata[\"salary\"].mean()\n",
    "print(mean)"
   ]
  },
  {
   "cell_type": "code",
   "execution_count": 32,
   "id": "260f8884-fe93-45e0-b702-db676b0433d8",
   "metadata": {},
   "outputs": [
    {
     "name": "stdout",
     "output_type": "stream",
     "text": [
      "    EEID      name gender   salary\n",
      "0  EMP01     ayush      F  24400.0\n",
      "1  EMP02     rohit      M  25000.0\n",
      "2  EMP03  pranjali      F  27000.0\n",
      "3  EMP01     ayush    NaN  20000.0\n",
      "4  EMP05       NaN      M  25000.0\n",
      "5  EMP06     rohan      M  24400.0\n",
      "6  EMP02     rohit      M  25000.0\n"
     ]
    }
   ],
   "source": [
    "import numpy as np\n",
    "ndata[\"salary\"]=ndata[\"salary\"].replace(np.nan,mean)           \n",
    "print(ndata)                                                    "
   ]
  },
  {
   "cell_type": "code",
   "execution_count": 33,
   "id": "6218ff9f-006d-4874-bcd9-bae5303885ca",
   "metadata": {},
   "outputs": [
    {
     "name": "stdout",
     "output_type": "stream",
     "text": [
      "    EEID      name gender   salary\n",
      "0  EMP01     ayush      F  24400.0\n",
      "1  EMP02     rohit      M  25000.0\n",
      "2  EMP03  pranjali      F  27000.0\n",
      "3  EMP01     ayush      F  20000.0\n",
      "4  EMP05     ayush      M  25000.0\n",
      "5  EMP06     rohan      M  24400.0\n",
      "6  EMP02     rohit      M  25000.0\n"
     ]
    },
    {
     "name": "stderr",
     "output_type": "stream",
     "text": [
      "C:\\Users\\nihal\\AppData\\Local\\Temp\\ipykernel_7988\\1936979051.py:1: FutureWarning: DataFrame.fillna with 'method' is deprecated and will raise in a future version. Use obj.ffill() or obj.bfill() instead.\n",
      "  print(ndata.fillna(method=\"ffill\"))\n"
     ]
    }
   ],
   "source": [
    "print(ndata.fillna(method=\"ffill\"))            "
   ]
  },
  {
   "cell_type": "code",
   "execution_count": 34,
   "id": "c1e30d6a-4206-48c8-b2ce-2bcfefaf235b",
   "metadata": {},
   "outputs": [
    {
     "name": "stdout",
     "output_type": "stream",
     "text": [
      "    EEID      name gender   salary\n",
      "0  EMP01     ayush      F  24400.0\n",
      "1  EMP02     rohit      M  25000.0\n",
      "2  EMP03  pranjali      F  27000.0\n",
      "3  EMP01     ayush      M  20000.0\n",
      "4  EMP05     rohan      M  25000.0\n",
      "5  EMP06     rohan      M  24400.0\n",
      "6  EMP02     rohit      M  25000.0\n"
     ]
    },
    {
     "name": "stderr",
     "output_type": "stream",
     "text": [
      "C:\\Users\\nihal\\AppData\\Local\\Temp\\ipykernel_7988\\3004589640.py:1: FutureWarning: DataFrame.fillna with 'method' is deprecated and will raise in a future version. Use obj.ffill() or obj.bfill() instead.\n",
      "  print(ndata.fillna(method=\"bfill\"))\n"
     ]
    }
   ],
   "source": [
    "print(ndata.fillna(method=\"bfill\"))                 "
   ]
  },
  {
   "cell_type": "code",
   "execution_count": 42,
   "id": "517774af-4988-47b7-a275-25874580e14c",
   "metadata": {},
   "outputs": [
    {
     "name": "stdout",
     "output_type": "stream",
     "text": [
      "   CustomerID   Genre  Age  Annual_Income_(k$)  Spending_Score saves_money\n",
      "0           1    Male   19                  15              39          no\n",
      "1           2    Male   21                  15              81          no\n",
      "2           3  Female   20                  16               6         yes\n",
      "3           4  Female   23                  16              77          no\n",
      "4           5  Female   31                  17              40          no\n",
      "5           6  Female   22                  17              76          no\n",
      "6           7  Female   35                  18               6         yes\n",
      "7           8  Female   23                  18              94          no\n",
      "8           9    Male   64                  19               3         yes\n",
      "9          10  Female   30                  19              72          no\n"
     ]
    }
   ],
   "source": [
    "#column tranformation in pandas\n",
    "import pandas as pd\n",
    "df=pd.read_csv(\"C:/Users/nihal/OneDrive/Desktop/jupyter notebook/Mall_Customers.csv\")      \n",
    "df.loc[(df[\"Annual_Income_(k$)\"]>df[\"Spending_Score\"]),\"saves_money\"]=\"yes\"                      \n",
    "df.loc[(df[\"Annual_Income_(k$)\"]<df[\"Spending_Score\"]),\"saves_money\"]=\"no\"\n",
    "print(df.head(10))"
   ]
  },
  {
   "cell_type": "code",
   "execution_count": 4,
   "id": "fcb0136c-00dc-408c-bdf1-085cfb84c3db",
   "metadata": {},
   "outputs": [
    {
     "name": "stdout",
     "output_type": "stream",
     "text": [
      "  first name  last name   salary EEID\n",
      "0        ross  tribbiani   20000   E1\n",
      "1      rachel       bing   40000   E2\n",
      "2      monica      green   25000   E7\n",
      "3        joey     geller   60000   E8\n",
      "4     chander     buffay   33000   E4\n",
      "5      phoebe       bing   45000   E5\n",
      "\n",
      "  first name  last name   salary EEID    Bonus\n",
      "0        ross  tribbiani   20000   E1   4000.0\n",
      "1      rachel       bing   40000   E2   8000.0\n",
      "2      monica      green   25000   E7   5000.0\n",
      "3        joey     geller   60000   E8  12000.0\n",
      "4     chander     buffay   33000   E4   6600.0\n",
      "5      phoebe       bing   45000   E5   9000.0\n"
     ]
    }
   ],
   "source": [
    "import pandas as pd\n",
    "pdata=pd.read_excel(\"C:/Users/nihal/OneDrive/Desktop/jupyter notebook/practice.xlsx\")\n",
    "print(pdata)\n",
    "print()\n",
    "pdata[\"Bonus\"]=(pdata[\"salary\"]/100)*20\n",
    "print(pdata)                                      "
   ]
  },
  {
   "cell_type": "code",
   "execution_count": 6,
   "id": "6345671b-2c33-45f9-98be-404edb39a39c",
   "metadata": {},
   "outputs": [
    {
     "name": "stdout",
     "output_type": "stream",
     "text": [
      "      Unnamed: 0  price      brand    model  year   title_status   mileage  \\\n",
      "0              0   6300     toyota  cruiser  2008  clean vehicle  274117.0   \n",
      "1              1   2899       ford       se  2011  clean vehicle  190552.0   \n",
      "2              2   5350      dodge      mpv  2018  clean vehicle   39590.0   \n",
      "3              3  25000       ford     door  2014  clean vehicle   64146.0   \n",
      "4              4  27700  chevrolet     1500  2018  clean vehicle    6654.0   \n",
      "...          ...    ...        ...      ...   ...            ...       ...   \n",
      "2494        2494   7800     nissan    versa  2019  clean vehicle   23609.0   \n",
      "2495        2495   9200     nissan    versa  2018  clean vehicle   34553.0   \n",
      "2496        2496   9200     nissan    versa  2018  clean vehicle   31594.0   \n",
      "2497        2497   9200     nissan    versa  2018  clean vehicle   32557.0   \n",
      "2498        2498   9200     nissan    versa  2018  clean vehicle   31371.0   \n",
      "\n",
      "       color                  vin        lot       state country  \\\n",
      "0      black    jtezu11f88k007763  159348797  new jersey     usa   \n",
      "1     silver    2fmdk3gc4bbb02217  166951262   tennessee     usa   \n",
      "2     silver    3c4pdcgg5jt346413  167655728     georgia     usa   \n",
      "3       blue    1ftfw1et4efc23745  167753855    virginia     usa   \n",
      "4        red    3gcpcrec2jg473991  167763266     florida     usa   \n",
      "...      ...                  ...        ...         ...     ...   \n",
      "2494     red    3n1cn7ap9kl880319  167722715  california     usa   \n",
      "2495  silver    3n1cn7ap5jl884088  167762225     florida     usa   \n",
      "2496  silver    3n1cn7ap9jl884191  167762226     florida     usa   \n",
      "2497   black    3n1cn7ap3jl883263  167762227     florida     usa   \n",
      "2498  silver    3n1cn7ap4jl884311  167762228     florida     usa   \n",
      "\n",
      "          condition  \n",
      "0      10 days left  \n",
      "1       6 days left  \n",
      "2       2 days left  \n",
      "3     22 hours left  \n",
      "4     22 hours left  \n",
      "...             ...  \n",
      "2494    1 days left  \n",
      "2495  21 hours left  \n",
      "2496  21 hours left  \n",
      "2497    2 days left  \n",
      "2498  21 hours left  \n",
      "\n",
      "[2499 rows x 13 columns]\n"
     ]
    }
   ],
   "source": [
    "#group by in pandas\n",
    "import pandas as pd\n",
    "usdata=pd.read_csv(\"C:/Users/nihal/OneDrive/Desktop/jupyter notebook/USA_cars_datasets.csv\")\n",
    "print(usdata)"
   ]
  },
  {
   "cell_type": "code",
   "execution_count": 12,
   "id": "6cdb8a29-d396-4650-8fa1-6730f929b67d",
   "metadata": {},
   "outputs": [
    {
     "name": "stdout",
     "output_type": "stream",
     "text": [
      "                 model\n",
      "brand                 \n",
      "acura                3\n",
      "audi                 4\n",
      "bmw                 17\n",
      "buick               13\n",
      "cadillac            10\n",
      "chevrolet          297\n",
      "chrysler            18\n",
      "dodge              432\n",
      "ford              1235\n",
      "gmc                 42\n",
      "harley-davidson      1\n",
      "heartland            5\n",
      "honda               12\n",
      "hyundai             15\n",
      "infiniti            12\n",
      "jaguar               1\n",
      "jeep                30\n",
      "kia                 13\n",
      "land                 4\n",
      "lexus                2\n",
      "lincoln              2\n",
      "maserati             1\n",
      "mazda                2\n",
      "mercedes-benz       10\n",
      "nissan             312\n",
      "peterbilt            4\n",
      "ram                  1\n",
      "toyota               1\n",
      "\n",
      "                 model\n",
      "brand                 \n",
      "jaguar               1\n",
      "harley-davidson      1\n",
      "toyota               1\n",
      "maserati             1\n",
      "ram                  1\n",
      "lexus                2\n",
      "mazda                2\n",
      "lincoln              2\n",
      "acura                3\n",
      "land                 4\n",
      "peterbilt            4\n",
      "audi                 4\n",
      "heartland            5\n",
      "cadillac            10\n",
      "mercedes-benz       10\n",
      "honda               12\n",
      "infiniti            12\n",
      "kia                 13\n",
      "buick               13\n",
      "hyundai             15\n",
      "bmw                 17\n",
      "chrysler            18\n",
      "jeep                30\n",
      "gmc                 42\n",
      "chevrolet          297\n",
      "nissan             312\n",
      "dodge              432\n",
      "ford              1235\n",
      "\n",
      "                 model\n",
      "brand                 \n",
      "ford              1235\n",
      "dodge              432\n",
      "nissan             312\n",
      "chevrolet          297\n",
      "gmc                 42\n",
      "jeep                30\n",
      "chrysler            18\n",
      "bmw                 17\n",
      "hyundai             15\n",
      "kia                 13\n",
      "buick               13\n",
      "infiniti            12\n",
      "honda               12\n",
      "cadillac            10\n",
      "mercedes-benz       10\n",
      "heartland            5\n",
      "peterbilt            4\n",
      "land                 4\n",
      "audi                 4\n",
      "acura                3\n",
      "mazda                2\n",
      "lexus                2\n",
      "lincoln              2\n",
      "harley-davidson      1\n",
      "jaguar               1\n",
      "maserati             1\n",
      "ram                  1\n",
      "toyota               1\n",
      "\n",
      "           model\n",
      "brand           \n",
      "ford        1235\n",
      "dodge        432\n",
      "nissan       312\n",
      "chevrolet    297\n",
      "gmc           42\n",
      "jeep          30\n",
      "chrysler      18\n",
      "bmw           17\n",
      "hyundai       15\n",
      "kia           13\n"
     ]
    }
   ],
   "source": [
    "gp=usdata.groupby(\"brand\").agg({\"model\":\"count\"})         \n",
    "print(gp)\n",
    "print()\n",
    "gp_sorted = gp.sort_values(\"model\")  \n",
    "print(gp_sorted)\n",
    "print()\n",
    "gp_sorted_desc = gp.sort_values(\"model\", ascending=False)      \n",
    "print(gp_sorted_desc)\n",
    "print()\n",
    "print(gp_sorted_desc.head(10))"
   ]
  },
  {
   "cell_type": "code",
   "execution_count": 14,
   "id": "63722241-2495-4324-bce7-28392f181fb3",
   "metadata": {},
   "outputs": [
    {
     "name": "stdout",
     "output_type": "stream",
     "text": [
      "                brand\n",
      "state                \n",
      "alabama            17\n",
      "arizona            33\n",
      "arkansas           12\n",
      "california        190\n",
      "colorado           21\n",
      "connecticut        25\n",
      "florida           246\n",
      "georgia            51\n",
      "idaho               2\n",
      "illinois          113\n",
      "indiana            14\n",
      "kansas              4\n",
      "kentucky            9\n",
      "louisiana          11\n",
      "maryland            4\n",
      "massachusetts      27\n",
      "michigan          169\n",
      "minnesota         119\n",
      "mississippi        24\n",
      "missouri           46\n",
      "montana             1\n",
      "nebraska            4\n",
      "nevada             85\n",
      "new hampshire       4\n",
      "new jersey         87\n",
      "new mexico          4\n",
      "new york           58\n",
      "north carolina    146\n",
      "ohio               31\n",
      "oklahoma           71\n",
      "ontario             7\n",
      "oregon             27\n",
      "pennsylvania      299\n",
      "rhode island        2\n",
      "south carolina     64\n",
      "tennessee          26\n",
      "texas             214\n",
      "utah               10\n",
      "vermont             2\n",
      "virginia           90\n",
      "washington         14\n",
      "west virginia      21\n",
      "wisconsin          94\n",
      "wyoming             1\n"
     ]
    }
   ],
   "source": [
    " ngp=usdata.groupby(\"state\").agg({\"brand\":\"count\"})         \n",
    "print(ngp)"
   ]
  },
  {
   "cell_type": "code",
   "execution_count": 15,
   "id": "b9192adc-482a-41bf-8a6f-b8d48eebcd6b",
   "metadata": {},
   "outputs": [
    {
     "name": "stdout",
     "output_type": "stream",
     "text": [
      "                       mileage\n",
      "brand                         \n",
      "acura            120379.666667\n",
      "audi             118091.000000\n",
      "bmw               47846.411765\n",
      "buick             37926.846154\n",
      "cadillac          40195.900000\n",
      "chevrolet         65124.461279\n",
      "chrysler          73004.000000\n",
      "dodge             44184.863426\n",
      "ford              52084.304453\n",
      "gmc               58548.738095\n",
      "harley-davidson    9502.000000\n",
      "heartland             1.000000\n",
      "honda             91599.000000\n",
      "hyundai           56683.866667\n",
      "infiniti          25023.166667\n",
      "jaguar            20849.000000\n",
      "jeep              38723.266667\n",
      "kia               56609.461538\n",
      "land              26613.750000\n",
      "lexus             22391.000000\n",
      "lincoln           52123.000000\n",
      "maserati          37021.000000\n",
      "mazda             82647.000000\n",
      "mercedes-benz     54597.000000\n",
      "nissan            42426.230769\n",
      "peterbilt        725615.750000\n",
      "ram               30421.000000\n",
      "toyota           274117.000000\n"
     ]
    }
   ],
   "source": [
    "gpn=usdata.groupby(\"brand\").agg({\"mileage\":\"mean\"})         \n",
    "print(gpn)"
   ]
  },
  {
   "cell_type": "code",
   "execution_count": 16,
   "id": "b5ba50a2-405c-49ea-9960-a2ff25a8748f",
   "metadata": {},
   "outputs": [
    {
     "name": "stdout",
     "output_type": "stream",
     "text": [
      "                 mileage  year\n",
      "year brand                    \n",
      "1973 chevrolet   46226.0  1973\n",
      "1984 ford        41577.0  1984\n",
      "1993 gmc             0.0  1993\n",
      "1994 ford       206162.0  1994\n",
      "1995 chevrolet  274706.0  1995\n",
      "...                  ...   ...\n",
      "2020 dodge        5284.0  2020\n",
      "     ford        23984.0  2020\n",
      "     kia         11451.0  2020\n",
      "     lexus        8186.0  2020\n",
      "     nissan      21009.0  2020\n",
      "\n",
      "[168 rows x 2 columns]\n"
     ]
    }
   ],
   "source": [
    " gp1=usdata.groupby([\"year\",\"brand\"]).agg({\"mileage\":\"max\",\"year\":\"min\"})         \n",
    "print(gp1)"
   ]
  },
  {
   "cell_type": "code",
   "execution_count": 22,
   "id": "b7f081f6-992e-4012-88f4-4190eca716ef",
   "metadata": {},
   "outputs": [
    {
     "name": "stdout",
     "output_type": "stream",
     "text": [
      "  emp id   names  age\n",
      "0    E01     ram   34\n",
      "1    E02   shyam   56\n",
      "2    E03   rahul   23\n",
      "3    E04  vishal   44\n",
      "4    E05    ravi   32\n",
      "5    E06   nihal   58\n",
      "\n",
      "  emp id  salary\n",
      "0    E01   45000\n",
      "1    E02   56000\n",
      "2    E03   34000\n",
      "3    E04   30000\n",
      "4    E05   50000\n",
      "5    E06   80000\n"
     ]
    }
   ],
   "source": [
    "#merge ,join and concatenate dataframe\n",
    "import pandas as pd\n",
    "data1={\"emp id\":[\"E01\",\"E02\",\"E03\",\"E04\",\"E05\",\"E06\"],\n",
    "       \"names\":[\"ram\",\"shyam\",\"rahul\",\"vishal\",\"ravi\",\"nihal\"],\n",
    "       \"age\":[34,56,23,44,32,58]}\n",
    "data2={\"emp id\":[\"E01\",\"E02\",\"E03\",\"E04\",\"E05\",\"E06\"],\n",
    "      \"salary\":[45000,56000,34000,30000,50000,80000]}\n",
    "dff1=pd.DataFrame(data1)\n",
    "dff2=pd.DataFrame(data2)\n",
    "print(dff1)\n",
    "print()\n",
    "print(dff2)"
   ]
  },
  {
   "cell_type": "code",
   "execution_count": 25,
   "id": "9c2eb718-7a69-462b-8947-a5e125b320b6",
   "metadata": {},
   "outputs": [
    {
     "name": "stdout",
     "output_type": "stream",
     "text": [
      "  emp id   names  age  salary\n",
      "0    E01     ram   34   45000\n",
      "1    E02   shyam   56   56000\n",
      "2    E03   rahul   23   34000\n",
      "3    E04  vishal   44   30000\n",
      "4    E05    ravi   32   50000\n",
      "5    E06   nihal   58   80000\n"
     ]
    }
   ],
   "source": [
    "print(pd.merge(dff1,dff2,on=\"emp id\"))           "
   ]
  },
  {
   "cell_type": "code",
   "execution_count": 27,
   "id": "be2d68f9-4d32-4a6f-aa13-1c2456933321",
   "metadata": {},
   "outputs": [
    {
     "name": "stdout",
     "output_type": "stream",
     "text": [
      "  emp id   names  age\n",
      "0    E01     ram   34\n",
      "1    E02   shyam   56\n",
      "2    E03   rahul   23\n",
      "3    E04  vishal   44\n",
      "4    E05    ravi   32\n",
      "5    E06   nihal   58\n",
      "\n",
      "  emp id  salary\n",
      "0    E01   45000\n",
      "1    E07   56000\n",
      "2    E03   34000\n",
      "3    E04   30000\n",
      "4    E05   50000\n",
      "5     E0   80000\n",
      "\n",
      "  emp id   names  age  salary\n",
      "0    E01     ram   34   45000\n",
      "1    E03   rahul   23   34000\n",
      "2    E04  vishal   44   30000\n",
      "3    E05    ravi   32   50000\n"
     ]
    }
   ],
   "source": [
    "import pandas as pd\n",
    "datas={\"emp id\":[\"E01\",\"E02\",\"E03\",\"E04\",\"E05\",\"E06\"],\n",
    "       \"names\":[\"ram\",\"shyam\",\"rahul\",\"vishal\",\"ravi\",\"nihal\"],\n",
    "       \"age\":[34,56,23,44,32,58]}\n",
    "datas2={\"emp id\":[\"E01\",\"E07\",\"E03\",\"E04\",\"E05\",\"E0\"],\n",
    "      \"salary\":[45000,56000,34000,30000,50000,80000]}\n",
    "dff3=pd.DataFrame(datas)\n",
    "dff4=pd.DataFrame(datas2)\n",
    "print(dff3)\n",
    "print()\n",
    "print(dff4)\n",
    "print()\n",
    "print(pd.merge(dff3,dff4,on=\"emp id\"))           "
   ]
  },
  {
   "cell_type": "code",
   "execution_count": 28,
   "id": "2d479c00-093b-4831-9485-e6846f46df6c",
   "metadata": {},
   "outputs": [
    {
     "name": "stdout",
     "output_type": "stream",
     "text": [
      "  emp id   names  age   salary\n",
      "0    E01     ram   34  45000.0\n",
      "1    E02   shyam   56      NaN\n",
      "2    E03   rahul   23  34000.0\n",
      "3    E04  vishal   44  30000.0\n",
      "4    E05    ravi   32  50000.0\n",
      "5    E06   nihal   58      NaN\n"
     ]
    }
   ],
   "source": [
    "print(pd.merge(left=dff3,right=dff4,on=\"emp id\",how=\"left\"))  "
   ]
  },
  {
   "cell_type": "code",
   "execution_count": 31,
   "id": "0d772eba-fa19-4120-a8d5-f518d242c11b",
   "metadata": {},
   "outputs": [
    {
     "name": "stdout",
     "output_type": "stream",
     "text": [
      "  emp id   names  age\n",
      "0    E01     ram   34\n",
      "1    E02   shyam   56\n",
      "2    E03   rahul   23\n",
      "3    E04  vishal   44\n",
      "4    E05    ravi   32\n",
      "5    E06   nihal   58\n",
      "0    E07      cc   34\n",
      "1    E08   rohit   56\n",
      "2    E09    raju   55\n",
      "3    E04   surya   63\n",
      "4    E05   arjun   56\n",
      "5   E012   vijay   29\n"
     ]
    }
   ],
   "source": [
    "datas={\"emp id\":[\"E01\",\"E02\",\"E03\",\"E04\",\"E05\",\"E06\"],\n",
    "       \"names\":[\"ram\",\"shyam\",\"rahul\",\"vishal\",\"ravi\",\"nihal\"],\n",
    "       \"age\":[34,56,23,44,32,58]}\n",
    "datas2={\"emp id\":[\"E07\",\"E08\",\"E09\",\"E04\",\"E05\",\"E012\"],\n",
    "      \"names\":[\"cc\",\"rohit\",\"raju\",\"surya\",\"arjun\",\"vijay\"],\n",
    "       \"age\":[34,56,55,63,56,29]}\n",
    "dff3=pd.DataFrame(datas)\n",
    "dff4=pd.DataFrame(datas2)\n",
    "\n",
    "print(pd.concat([dff3,dff4]))  "
   ]
  },
  {
   "cell_type": "code",
   "execution_count": 1,
   "id": "1d1c60a6-473f-45fa-b92d-98f1e6225f4a",
   "metadata": {},
   "outputs": [
    {
     "name": "stdout",
     "output_type": "stream",
     "text": [
      "   fruits  price  quantity\n",
      "0   mango    100        15\n",
      "1   apple    150        10\n",
      "2  banana     50        10\n",
      "3  papaya     35         3\n",
      "\n",
      "   fruits  price  quantity\n",
      "0   mango    120        12\n",
      "1   apple    175        15\n",
      "2  banana     30         5\n",
      "3  papaya     35         3\n",
      "         price  quantity\n",
      "0 self   100.0      15.0\n",
      "  other  120.0      12.0\n",
      "1 self   150.0      10.0\n",
      "  other  175.0      15.0\n",
      "2 self    50.0      10.0\n",
      "  other   30.0       5.0\n"
     ]
    }
   ],
   "source": [
    "#compare dataframes\n",
    "import pandas as pd\n",
    "dict={\"fruits\":[\"mango\",\"apple\",\"banana\",\"papaya\"],\n",
    "     \"price\":[100,150,50,35],\n",
    "     \"quantity\":[15,10,10,3]}\n",
    "df=pd.DataFrame(dict)\n",
    "print(df)\n",
    "df2=df.copy()\n",
    "df2.loc[0,\"price\"]=120\n",
    "df2.loc[1,\"price\"]=175\n",
    "df2.loc[2,\"price\"]=30\n",
    "df2.loc[0,\"quantity\"]=12\n",
    "df2.loc[1,\"quantity\"]=15\n",
    "df2.loc[2,\"quantity\"]=5\n",
    "print()\n",
    "print(df2)    \n",
    "print(df.compare(df2,align_axis=0))       "
   ]
  },
  {
   "cell_type": "code",
   "execution_count": 47,
   "id": "31616895-9c22-47b2-aa46-17f10ad3e190",
   "metadata": {},
   "outputs": [
    {
     "name": "stdout",
     "output_type": "stream",
     "text": [
      "  keys  names houses grades\n",
      "0   k1   john    red    3re\n",
      "1   k2    ben   blue    8th\n",
      "2   k1  david  green    9th\n",
      "3   k2  peter    red    8th\n",
      "\n",
      "      houses                   grades                 \n",
      "names    ben  david john peter    ben david john peter\n",
      "keys                                                  \n",
      "k1       NaN  green  red   NaN    NaN   9th  3re   NaN\n",
      "k2      blue    NaN  NaN   red    8th   NaN  NaN   8th\n"
     ]
    }
   ],
   "source": [
    "#pivoting and melting dataframe\n",
    "import pandas as pd \n",
    "dict={\"keys\":[\"k1\",\"k2\",\"k1\",\"k2\",],\n",
    "     \"names\":[\"john\",\"ben\",\"david\",\"peter\"],\n",
    "     \"houses\":[\"red\",\"blue\",\"green\",\"red\"],\n",
    "     \"grades\":[\"3re\",\"8th\",\"9th\",\"8th\"]}\n",
    "df=pd.DataFrame(dict)\n",
    "print(df)\n",
    "print()\n",
    "print(df.pivot(index=\"keys\",columns=\"names\",values=[\"houses\",\"grades\"]))    "
   ]
  },
  {
   "cell_type": "code",
   "execution_count": 51,
   "id": "c226f45d-b27e-46cf-8000-8c0eda443f76",
   "metadata": {},
   "outputs": [
    {
     "name": "stdout",
     "output_type": "stream",
     "text": [
      "   names houses grades\n",
      "0   john    red    3re\n",
      "1    ben   blue    8th\n",
      "2  david  green    9th\n",
      "3  peter    red    8th\n",
      "\n",
      "   names variable  value\n",
      "0   john   houses    red\n",
      "1    ben   houses   blue\n",
      "2  david   houses  green\n",
      "3  peter   houses    red\n"
     ]
    }
   ],
   "source": [
    "#melting\n",
    "import pandas as pd\n",
    "dict={\"names\":[\"john\",\"ben\",\"david\",\"peter\"],\n",
    "     \"houses\":[\"red\",\"blue\",\"green\",\"red\"],\n",
    "     \"grades\":[\"3re\",\"8th\",\"9th\",\"8th\"]}\n",
    "df=pd.DataFrame(dict)\n",
    "print(df)\n",
    "print()\n",
    "print(pd.melt(df,id_vars=[\"names\"],value_vars =[\"houses\"])) "
   ]
  },
  {
   "cell_type": "code",
   "execution_count": null,
   "id": "8cd8c122-0ad7-4d77-b042-980a95092720",
   "metadata": {},
   "outputs": [],
   "source": []
  }
 ],
 "metadata": {
  "kernelspec": {
   "display_name": "Python 3 (ipykernel)",
   "language": "python",
   "name": "python3"
  },
  "language_info": {
   "codemirror_mode": {
    "name": "ipython",
    "version": 3
   },
   "file_extension": ".py",
   "mimetype": "text/x-python",
   "name": "python",
   "nbconvert_exporter": "python",
   "pygments_lexer": "ipython3",
   "version": "3.12.5"
  }
 },
 "nbformat": 4,
 "nbformat_minor": 5
}
